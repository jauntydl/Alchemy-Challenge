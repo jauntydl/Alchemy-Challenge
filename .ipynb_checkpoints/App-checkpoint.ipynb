{
 "cells": [
  {
   "cell_type": "code",
   "execution_count": 1,
   "metadata": {},
   "outputs": [
    {
     "name": "stdout",
     "output_type": "stream",
     "text": [
      " * Serving Flask app \"__main__\" (lazy loading)\n",
      " * Environment: production\n",
      "   WARNING: This is a development server. Do not use it in a production deployment.\n",
      "   Use a production WSGI server instead.\n",
      " * Debug mode: on\n"
     ]
    },
    {
     "name": "stderr",
     "output_type": "stream",
     "text": [
      " * Restarting with stat\n"
     ]
    },
    {
     "ename": "SystemExit",
     "evalue": "1",
     "output_type": "error",
     "traceback": [
      "An exception has occurred, use %tb to see the full traceback.\n",
      "\u001b[1;31mSystemExit\u001b[0m\u001b[1;31m:\u001b[0m 1\n"
     ]
    },
    {
     "name": "stderr",
     "output_type": "stream",
     "text": [
      "C:\\Users\\jaunt\\Anaconda3\\lib\\site-packages\\IPython\\core\\interactiveshell.py:3334: UserWarning: To exit: use 'exit', 'quit', or Ctrl-D.\n",
      "  warn(\"To exit: use 'exit', 'quit', or Ctrl-D.\", stacklevel=1)\n"
     ]
    }
   ],
   "source": [
    "# 1. import Flask\n",
    "from flask import Flask\n",
    "import numpy as np\n",
    "import pandas as pd\n",
    "import sqlite3 as sl3\n",
    "\n",
    "\n",
    "\n",
    "#################################################\n",
    "# Flask Setup\n",
    "#################################################\n",
    "app = Flask(__name__)\n",
    "\n",
    "\n",
    "#################################################\n",
    "# Flask Routes\n",
    "#################################################\n",
    "\n",
    "@app.route(\"/\")\n",
    "def welcome():\n",
    "    \"\"\"List all available api routes.\"\"\"\n",
    "    return (\n",
    "        f\"Available Routes:<br/>\"\n",
    "        f\"/api/v1.0/names<br/>\"\n",
    "        f\"/api/v1.0/passengers\"\n",
    "    )\n",
    "\n",
    "\n",
    "@app.route(\"/api/v1.0/names\")\n",
    "def names():\n",
    "    # Create our session (link) from Python to the DB\n",
    "    session = Session(engine)\n",
    "\n",
    "    \"\"\"Return a list of all passenger names\"\"\"\n",
    "    # Query all passengers\n",
    "    results = session.query(Passenger.name).all()\n",
    "\n",
    "    session.close()\n",
    "\n",
    "    # Convert list of tuples into normal list\n",
    "    all_names = list(np.ravel(results))\n",
    "\n",
    "    return jsonify(all_names)\n",
    "\n",
    "\n",
    "@app.route(\"/api/v1.0/passengers\")\n",
    "def passengers():\n",
    "    # Create our session (link) from Python to the DB\n",
    "    session = Session(engine)\n",
    "\n",
    "    \"\"\"Return a list of passenger data including the name, age, and sex of each passenger\"\"\"\n",
    "    # Query all passengers\n",
    "    results = session.query(Passenger.name, Passenger.age, Passenger.sex).all()\n",
    "\n",
    "    session.close()\n",
    "\n",
    "    # Create a dictionary from the row data and append to a list of all_passengers\n",
    "    all_passengers = []\n",
    "    for name, age, sex in results:\n",
    "        passenger_dict = {}\n",
    "        passenger_dict[\"name\"] = name\n",
    "        passenger_dict[\"age\"] = age\n",
    "        passenger_dict[\"sex\"] = sex\n",
    "        all_passengers.append(passenger_dict)\n",
    "\n",
    "    return jsonify(all_passengers)\n",
    "\n",
    "\n",
    "if __name__ == '__main__':\n",
    "    app.run(debug=True)\n",
    "\n",
    "\n",
    "\n",
    "# # 2. Create an app, being sure to pass __name__\n",
    "# app = Flask(__name__)\n",
    "\n",
    "\n",
    "# # 3. Define what to do when a user hits the index route\n",
    "# @app.route(\"/\")\n",
    "# def home():\n",
    "#     return \"Welcome to Homepage! \\n/api/v1.0/precipitation : Return a JSON list of precipitation and data \\n/api/v1.0/stations : Return a JSON list of stations from the dataset \\n/api/v1.0/tobs : Return a JSON list of Temperature Observations (tobs) for the previous year \\n/api/v1.0/<start> and /api/v1.0/<start>/<end> : Return a JSON list of the minimum temperature, the average temperature, and the max temperature for a given start or start-end range \\n\"\n",
    "\n",
    "# # 4. Define what to do when a user hits the /about route\n",
    "# @app.route(\"/api/v1.0/precipitation\")\n",
    "# def precipitation():\n",
    "#     database_path =\"Resources/hawaii.sqlite\"\n",
    "#     conn = sl3.connect(database_path)\n",
    "#     cur = conn.cursor()\n",
    "#     df_main = pd.read_sql_query(\"SELECT date as Date,prcp as Precipitation FROM measurement\",conn).dropna().sort_values(by=\"Date\").reset_index(drop = True)\n",
    "#     dict_prcp = df_main.to_dict(\"records\")\n",
    "#     return dict_prcp\n",
    "\n",
    "\n",
    "# if __name__ == \"__main__\":\n",
    "#     app.run(debug=True)\n"
   ]
  },
  {
   "cell_type": "code",
   "execution_count": null,
   "metadata": {},
   "outputs": [],
   "source": []
  }
 ],
 "metadata": {
  "kernelspec": {
   "display_name": "Python 3.7.4 64-bit ('base': conda)",
   "language": "python",
   "name": "python37464bitbasecondaa1c6309b6e7e453d928f13cdbaf6aa82"
  },
  "language_info": {
   "codemirror_mode": {
    "name": "ipython",
    "version": 3
   },
   "file_extension": ".py",
   "mimetype": "text/x-python",
   "name": "python",
   "nbconvert_exporter": "python",
   "pygments_lexer": "ipython3",
   "version": "3.7.4"
  }
 },
 "nbformat": 4,
 "nbformat_minor": 4
}
